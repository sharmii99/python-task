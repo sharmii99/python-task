{
  "nbformat": 4,
  "nbformat_minor": 0,
  "metadata": {
    "colab": {
      "name": "Task1.ipynb",
      "provenance": [],
      "collapsed_sections": []
    },
    "kernelspec": {
      "name": "python3",
      "display_name": "Python 3"
    },
    "language_info": {
      "name": "python"
    }
  },
  "cells": [
    {
      "cell_type": "code",
      "execution_count": 3,
      "metadata": {
        "colab": {
          "base_uri": "https://localhost:8080/"
        },
        "id": "kMZUHX7PdAUp",
        "outputId": "39c39b59-0358-4eb1-d3a5-3e28b9acdf4a"
      },
      "outputs": [
        {
          "output_type": "stream",
          "name": "stdout",
          "text": [
            "Enter first number: 4\n",
            "Enter second number: 5\n",
            "5\n"
          ]
        }
      ],
      "source": [
        "#Take two numbers from user to compare\n",
        "num1 = int(input(\"Enter first number: \"))\n",
        "num2 = int(input(\"Enter second number: \"))\n",
        "#compare both the numbers given here\n",
        "\n",
        "if num1>= num2:\n",
        "  if num1 == num2:\n",
        "    print (\"Both numbers are equal.\")\n",
        "  else:\n",
        "    print (num1)\n",
        "else: print(num2)"
      ]
    },
    {
      "cell_type": "code",
      "source": [
        ""
      ],
      "metadata": {
        "id": "AzVO1jokeDvm"
      },
      "execution_count": null,
      "outputs": []
    }
  ]
}