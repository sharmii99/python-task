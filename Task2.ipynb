{
  "nbformat": 4,
  "nbformat_minor": 0,
  "metadata": {
    "colab": {
      "name": "Task2.ipynb",
      "provenance": [],
      "collapsed_sections": []
    },
    "kernelspec": {
      "name": "python3",
      "display_name": "Python 3"
    },
    "language_info": {
      "name": "python"
    }
  },
  "cells": [
    {
      "cell_type": "code",
      "execution_count": 1,
      "metadata": {
        "colab": {
          "base_uri": "https://localhost:8080/"
        },
        "id": "sO_w4NdCeWH7",
        "outputId": "4d34b249-cbac-4cb1-ca34-131777bede92"
      },
      "outputs": [
        {
          "output_type": "stream",
          "name": "stdout",
          "text": [
            "Enter first number: 4\n",
            "Enter second number: 5\n",
            "4\n"
          ]
        }
      ],
      "source": [
        "#Take two numbers from user to compare\n",
        "num1 = int(input(\"Enter first number: \"))\n",
        "num2 = int(input(\"Enter second number: \"))\n",
        "#compare both the numbers given here\n",
        "\n",
        "if num1<= num2:\n",
        "  if num1 == num2:\n",
        "    print (\"Both numbers are equal.\")\n",
        "  else:\n",
        "    print (num1)\n",
        "else: print(num2)"
      ]
    },
    {
      "cell_type": "code",
      "source": [
        ""
      ],
      "metadata": {
        "id": "4bpB9Q8zfWb6"
      },
      "execution_count": null,
      "outputs": []
    }
  ]
}